{
 "cells": [
  {
   "cell_type": "code",
   "execution_count": 2,
   "metadata": {},
   "outputs": [],
   "source": [
    "class User:\n",
    "\n",
    "    def __init__(self, username, email, age) -> None:\n",
    "        self.id = 45\n",
    "        self.username = username\n",
    "        self.email = email\n",
    "        self.age = age\n",
    "\n",
    "user = User(username=\"Brummi\", email=\"Brummi@email.com\", age=90)\n",
    "\n",
    "new_data = {\n",
    "    \"username\": \"NewBrummi\",\n",
    "    \"age\": 87\n",
    "}"
   ]
  },
  {
   "cell_type": "code",
   "execution_count": 7,
   "metadata": {},
   "outputs": [],
   "source": [
    "def update_object(obj, data):\n",
    "    for key, value in data.items():\n",
    "        if hasattr(obj, key):\n",
    "            setattr(obj, key, value)"
   ]
  },
  {
   "cell_type": "code",
   "execution_count": 8,
   "metadata": {},
   "outputs": [
    {
     "name": "stdout",
     "output_type": "stream",
     "text": [
      "{'id': 45, 'username': 'Brummi', 'email': 'Brummi@email.com', 'age': 90}\n",
      "{'id': 45, 'username': 'NewBrummi', 'email': 'Brummi@email.com', 'age': 87}\n"
     ]
    }
   ],
   "source": [
    "print(user.__dict__)\n",
    "update_object(user, new_data)\n",
    "print(user.__dict__)"
   ]
  },
  {
   "cell_type": "code",
   "execution_count": 2,
   "metadata": {},
   "outputs": [
    {
     "name": "stdout",
     "output_type": "stream",
     "text": [
      "HelloWorld\n"
     ]
    }
   ],
   "source": [
    "class BaseUser:\n",
    "\n",
    "    def __init__(self):\n",
    "        pass\n",
    "    \n",
    "    def print_description(self):\n",
    "        print(self.description)\n",
    "\n",
    "class User(BaseUser):\n",
    "    description = \"HelloWorld\"\n",
    "\n",
    "u = User()\n",
    "u.print_description()"
   ]
  }
 ],
 "metadata": {
  "kernelspec": {
   "display_name": "venv",
   "language": "python",
   "name": "python3"
  },
  "language_info": {
   "codemirror_mode": {
    "name": "ipython",
    "version": 3
   },
   "file_extension": ".py",
   "mimetype": "text/x-python",
   "name": "python",
   "nbconvert_exporter": "python",
   "pygments_lexer": "ipython3",
   "version": "3.12.1"
  }
 },
 "nbformat": 4,
 "nbformat_minor": 2
}
